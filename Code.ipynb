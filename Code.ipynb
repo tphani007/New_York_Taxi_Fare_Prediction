{
 "cells": [
  {
   "cell_type": "code",
   "execution_count": 3,
   "metadata": {},
   "outputs": [],
   "source": [
    "import numpy as np\n",
    "import pandas as pd\n",
    "import matplotlib.pyplot as plt\n",
    "import seaborn as sns\n",
    "from sklearn.preprocessing import LabelEncoder, OneHotEncoder\n",
    "from sklearn.preprocessing import StandardScaler\n",
    "from sklearn.model_selection import train_test_split\n",
    "from sklearn.utils import shuffle\n",
    "from sklearn.decomposition import PCA\n",
    "from sklearn.linear_model import LinearRegression\n",
    "from sklearn.linear_model import LogisticRegression\n",
    "from sklearn.metrics import confusion_matrix\n",
    "from sklearn import metrics\n",
    "import pickle\n",
    "# import warnings\n",
    "# warnings.filterwarnings(\"ignore\")"
   ]
  },
  {
   "cell_type": "markdown",
   "metadata": {},
   "source": [
    "# Reading Data"
   ]
  },
  {
   "cell_type": "code",
   "execution_count": 4,
   "metadata": {},
   "outputs": [],
   "source": [
    "df_chunk = pd.read_csv('train.csv', chunksize = 500000, low_memory = False)\n",
    "chunks = []"
   ]
  },
  {
   "cell_type": "code",
   "execution_count": 5,
   "metadata": {},
   "outputs": [],
   "source": [
    "invalid = [0]*500000\n",
    "coord_list = ['pickup_longitude', 'pickup_latitude', 'dropoff_longitude', 'dropoff_latitude', 'fare_amount']\n",
    "def mark_invalid(chunk):\n",
    "    for c in coord_list:\n",
    "        for i in chunk.index:\n",
    "            if(c == \"pickup_longitude\" or c == \"dropoff_longitude\"):\n",
    "                if(chunk[c][i].astype(float) > -73.699215 or chunk[c][i].astype(float) < -74.257159):\n",
    "#                     chunk = chunk.replace(chunk[c][i],np.nan)\n",
    "#                     chunk = chunk.drop([i])\n",
    "                    invalid[i%500000] = 1\n",
    "            elif (c == \"pickup_latitude\" or c == \"dropoff_latitude\"):\n",
    "                if(chunk[c][i].astype(float) > 40.915568 or chunk[c][i].astype(float) < 40.495992):\n",
    "#                     chunk = chunk.replace(chunk[c][i],np.nan)\n",
    "#                     chunk = chunk.drop([i])\n",
    "                    invalid[i%500000] = 1\n",
    "            elif(c == \"fare_amount\"):\n",
    "                if(chunk[c][i] >= 200 or chunk[c][i] <= 0):\n",
    "#                     chunk = chunk.drop([i])\n",
    "                    invalid[i%500000] = 1\n",
    "    return chunk\n",
    "\n",
    "invalid_test = [0]*1000000\n",
    "coord_list_test = ['pickup_longitude', 'pickup_latitude', 'dropoff_longitude', 'dropoff_latitude']\n",
    "def mark_invalid_test(chunk):\n",
    "    for c in coord_list_test:\n",
    "        for i in chunk.index:\n",
    "            if(c == \"pickup_longitude\" or c == \"dropoff_longitude\"):\n",
    "                if(chunk[c][i].astype(float) > -73.699215 or chunk[c][i].astype(float) < -74.257159):\n",
    "#                     chunk = chunk.replace(chunk[c][i],np.nan)\n",
    "#                     chunk = chunk.drop([i])\n",
    "                    invalid_test[i%1000000] = 1\n",
    "            elif (c == \"pickup_latitude\" or c == \"dropoff_latitude\"):\n",
    "                if(chunk[c][i].astype(float) > 40.915568 or chunk[c][i].astype(float) < 40.495992):\n",
    "#                     chunk = chunk.replace(chunk[c][i],np.nan)\n",
    "#                     chunk = chunk.drop([i])\n",
    "                    invalid_test[i%1000000] = 1\n",
    "    return chunk\n",
    "        "
   ]
  },
  {
   "cell_type": "code",
   "execution_count": 6,
   "metadata": {},
   "outputs": [],
   "source": [
    "def mark_outlier(chunk, data_1):\n",
    "    outliers_indices=[]\n",
    "    threshold = 3\n",
    "    mean_1 = np.mean(data_1)\n",
    "    std_1 = np.std(data_1)\n",
    "    \n",
    "#     length = len(data_1)\n",
    "    for i in chunk.index:\n",
    "        z_score= (data_1[i] - mean_1)/std_1 \n",
    "        if np.abs(z_score) > threshold:\n",
    "            outliers_indices.append(i)\n",
    "    for i in outliers_indices:\n",
    "#         chunk = chunk.drop([i])\n",
    "        chunk['invalid'][i] = 1\n",
    "    return chunk\n",
    "\n",
    "\n",
    "# print(len(detect_outlier(chunks[1]['fare_amount'])))"
   ]
  },
  {
   "cell_type": "code",
   "execution_count": 7,
   "metadata": {},
   "outputs": [],
   "source": [
    "def split_datetime(chunk):\n",
    "    hours = []\n",
    "    mins = []\n",
    "    secs = []\n",
    "    years = []\n",
    "    months = []\n",
    "    days = []\n",
    "    length = len(chunk['pickup_longitude'])\n",
    "    \n",
    "    for i in chunk.index:\n",
    "        years.append(int(chunk['pickup_datetime'][i][0:4]))\n",
    "        months.append(int(chunk['pickup_datetime'][i][5:7]) - 1) # 1 is subtracted to aid in days from jan 1st calculations\n",
    "        days.append(int(chunk['pickup_datetime'][i][8:10]))\n",
    "        hours.append(int(chunk['pickup_datetime'][i][11:13]))\n",
    "        mins.append(int(chunk['pickup_datetime'][i][14:16]))\n",
    "        secs.append(int(chunk['pickup_datetime'][i][17:19]))\n",
    "\n",
    "    chunk['years'] = years\n",
    "    chunk['months'] = months\n",
    "    chunk['days'] = days\n",
    "    chunk['hours'] = hours\n",
    "    chunk['mins'] = mins\n",
    "    chunk['secs'] = secs\n",
    "    \n",
    "    return chunk"
   ]
  },
  {
   "cell_type": "code",
   "execution_count": 8,
   "metadata": {},
   "outputs": [],
   "source": [
    "def modify_datetime(chunk):\n",
    "    chunk['secs_past_midnight'] = (chunk['hours']*3600) + (chunk['mins']*60) + (chunk['secs'])\n",
    "    chunk['sin_spm'] = np.sin(2*np.pi*(chunk['secs_past_midnight']/86400))\n",
    "    chunk['cos_spm'] = np.cos(2*np.pi*(chunk['secs_past_midnight']/86400))\n",
    "    chunk['days_past_jan1'] = (chunk['months']*30) + (chunk['days'])\n",
    "    chunk['sin_dpj'] = np.sin(2*np.pi*(chunk['days_past_jan1']/365))\n",
    "    chunk['cos_dpj'] = np.cos(2*np.pi*(chunk['days_past_jan1']/365))\n",
    "    \n",
    "    return chunk"
   ]
  },
  {
   "cell_type": "code",
   "execution_count": 9,
   "metadata": {},
   "outputs": [],
   "source": [
    "def split_data(chunk):\n",
    "    y = chunk['fare_amount']\n",
    "    X = pd.DataFrame(chunk)\n",
    "    X = X.drop(['fare_amount','key','pickup_datetime', 'years', 'months', 'days', 'hours', 'mins', 'secs', 'secs_past_midnight', 'days_past_jan1'], axis = 1)\n",
    "#     X = StandardScaler().fit_transform(X)\n",
    "    return (X, y)"
   ]
  },
  {
   "cell_type": "code",
   "execution_count": 10,
   "metadata": {},
   "outputs": [],
   "source": [
    "def fit_model_rmse(X, y, linreg = LinearRegression()):\n",
    "    X_train, X_test, y_train, y_test = train_test_split(X, y)\n",
    "#     linreg = LinearRegression()\n",
    "    linreg.fit(X_train, y_train)\n",
    "    y_pred = linreg.predict(X_test)\n",
    "    rmse = np.sqrt(metrics.mean_squared_error(y_test, y_pred))\n",
    "    return (linreg, rmse)\n",
    "\n",
    "# X1_train, X1_test, y1_train, y1_test = train_test_split(features, target, random_state=1)"
   ]
  },
  {
   "cell_type": "code",
   "execution_count": 11,
   "metadata": {},
   "outputs": [],
   "source": [
    "def save_model(model, filename): \n",
    "#     filename = 'model.sav'\n",
    "    pickle.dump(model, open(filename, 'wb'))"
   ]
  },
  {
   "cell_type": "code",
   "execution_count": 12,
   "metadata": {},
   "outputs": [],
   "source": [
    "def load_model(filename): \n",
    "    model = pickle.load(open(filename, 'rb'))\n",
    "    return model"
   ]
  },
  {
   "cell_type": "code",
   "execution_count": 13,
   "metadata": {},
   "outputs": [],
   "source": [
    "def req_columns_test(chunk):\n",
    "    temp = pd.DataFrame(chunk)\n",
    "    temp = temp.drop(['key','pickup_datetime', 'years', 'months', 'days', 'hours', 'mins', 'secs', 'secs_past_midnight', 'days_past_jan1'], axis = 1)\n",
    "    return temp"
   ]
  },
  {
   "cell_type": "markdown",
   "metadata": {},
   "source": [
    "# Reading chunks and applying functions"
   ]
  },
  {
   "cell_type": "code",
   "execution_count": 17,
   "metadata": {
    "scrolled": false
   },
   "outputs": [
    {
     "ename": "KeyboardInterrupt",
     "evalue": "",
     "output_type": "error",
     "traceback": [
      "\u001b[0;31m---------------------------------------------------------------------------\u001b[0m",
      "\u001b[0;31mKeyboardInterrupt\u001b[0m                         Traceback (most recent call last)",
      "\u001b[0;32m<ipython-input-17-40df174e35bc>\u001b[0m in \u001b[0;36m<module>\u001b[0;34m\u001b[0m\n\u001b[1;32m      7\u001b[0m         \u001b[0mmodel\u001b[0m \u001b[0;34m=\u001b[0m \u001b[0mload_model\u001b[0m\u001b[0;34m(\u001b[0m\u001b[0;34m\"model.sav\"\u001b[0m\u001b[0;34m)\u001b[0m\u001b[0;34m\u001b[0m\u001b[0;34m\u001b[0m\u001b[0m\n\u001b[1;32m      8\u001b[0m \u001b[0;34m\u001b[0m\u001b[0m\n\u001b[0;32m----> 9\u001b[0;31m     \u001b[0mchunk\u001b[0m \u001b[0;34m=\u001b[0m \u001b[0mmark_invalid\u001b[0m\u001b[0;34m(\u001b[0m\u001b[0mchunk\u001b[0m\u001b[0;34m)\u001b[0m\u001b[0;34m\u001b[0m\u001b[0;34m\u001b[0m\u001b[0m\n\u001b[0m\u001b[1;32m     10\u001b[0m     \u001b[0mchunk\u001b[0m\u001b[0;34m[\u001b[0m\u001b[0;34m'invalid'\u001b[0m\u001b[0;34m]\u001b[0m \u001b[0;34m=\u001b[0m \u001b[0minvalid\u001b[0m\u001b[0;34m\u001b[0m\u001b[0;34m\u001b[0m\u001b[0m\n\u001b[1;32m     11\u001b[0m     \u001b[0mchunk\u001b[0m\u001b[0;34m.\u001b[0m\u001b[0mdropna\u001b[0m\u001b[0;34m(\u001b[0m\u001b[0minplace\u001b[0m \u001b[0;34m=\u001b[0m \u001b[0;32mTrue\u001b[0m\u001b[0;34m)\u001b[0m\u001b[0;34m\u001b[0m\u001b[0;34m\u001b[0m\u001b[0m\n",
      "\u001b[0;32m<ipython-input-5-92ad66bbb08a>\u001b[0m in \u001b[0;36mmark_invalid\u001b[0;34m(chunk)\u001b[0m\n\u001b[1;32m      5\u001b[0m         \u001b[0;32mfor\u001b[0m \u001b[0mi\u001b[0m \u001b[0;32min\u001b[0m \u001b[0mchunk\u001b[0m\u001b[0;34m.\u001b[0m\u001b[0mindex\u001b[0m\u001b[0;34m:\u001b[0m\u001b[0;34m\u001b[0m\u001b[0;34m\u001b[0m\u001b[0m\n\u001b[1;32m      6\u001b[0m             \u001b[0;32mif\u001b[0m\u001b[0;34m(\u001b[0m\u001b[0mc\u001b[0m \u001b[0;34m==\u001b[0m \u001b[0;34m\"pickup_longitude\"\u001b[0m \u001b[0;32mor\u001b[0m \u001b[0mc\u001b[0m \u001b[0;34m==\u001b[0m \u001b[0;34m\"dropoff_longitude\"\u001b[0m\u001b[0;34m)\u001b[0m\u001b[0;34m:\u001b[0m\u001b[0;34m\u001b[0m\u001b[0;34m\u001b[0m\u001b[0m\n\u001b[0;32m----> 7\u001b[0;31m                 \u001b[0;32mif\u001b[0m\u001b[0;34m(\u001b[0m\u001b[0mchunk\u001b[0m\u001b[0;34m[\u001b[0m\u001b[0mc\u001b[0m\u001b[0;34m]\u001b[0m\u001b[0;34m[\u001b[0m\u001b[0mi\u001b[0m\u001b[0;34m]\u001b[0m\u001b[0;34m.\u001b[0m\u001b[0mastype\u001b[0m\u001b[0;34m(\u001b[0m\u001b[0mfloat\u001b[0m\u001b[0;34m)\u001b[0m \u001b[0;34m>\u001b[0m \u001b[0;34m-\u001b[0m\u001b[0;36m73.699215\u001b[0m \u001b[0;32mor\u001b[0m \u001b[0mchunk\u001b[0m\u001b[0;34m[\u001b[0m\u001b[0mc\u001b[0m\u001b[0;34m]\u001b[0m\u001b[0;34m[\u001b[0m\u001b[0mi\u001b[0m\u001b[0;34m]\u001b[0m\u001b[0;34m.\u001b[0m\u001b[0mastype\u001b[0m\u001b[0;34m(\u001b[0m\u001b[0mfloat\u001b[0m\u001b[0;34m)\u001b[0m \u001b[0;34m<\u001b[0m \u001b[0;34m-\u001b[0m\u001b[0;36m74.257159\u001b[0m\u001b[0;34m)\u001b[0m\u001b[0;34m:\u001b[0m\u001b[0;34m\u001b[0m\u001b[0;34m\u001b[0m\u001b[0m\n\u001b[0m\u001b[1;32m      8\u001b[0m \u001b[0;31m#                     chunk = chunk.replace(chunk[c][i],np.nan)\u001b[0m\u001b[0;34m\u001b[0m\u001b[0;34m\u001b[0m\u001b[0;34m\u001b[0m\u001b[0m\n\u001b[1;32m      9\u001b[0m \u001b[0;31m#                     chunk = chunk.drop([i])\u001b[0m\u001b[0;34m\u001b[0m\u001b[0;34m\u001b[0m\u001b[0;34m\u001b[0m\u001b[0m\n",
      "\u001b[0;32m~/.local/lib/python3.6/site-packages/pandas/core/series.py\u001b[0m in \u001b[0;36m__getitem__\u001b[0;34m(self, key)\u001b[0m\n\u001b[1;32m   1069\u001b[0m         \u001b[0mkey\u001b[0m \u001b[0;34m=\u001b[0m \u001b[0mcom\u001b[0m\u001b[0;34m.\u001b[0m\u001b[0mapply_if_callable\u001b[0m\u001b[0;34m(\u001b[0m\u001b[0mkey\u001b[0m\u001b[0;34m,\u001b[0m \u001b[0mself\u001b[0m\u001b[0;34m)\u001b[0m\u001b[0;34m\u001b[0m\u001b[0;34m\u001b[0m\u001b[0m\n\u001b[1;32m   1070\u001b[0m         \u001b[0;32mtry\u001b[0m\u001b[0;34m:\u001b[0m\u001b[0;34m\u001b[0m\u001b[0;34m\u001b[0m\u001b[0m\n\u001b[0;32m-> 1071\u001b[0;31m             \u001b[0mresult\u001b[0m \u001b[0;34m=\u001b[0m \u001b[0mself\u001b[0m\u001b[0;34m.\u001b[0m\u001b[0mindex\u001b[0m\u001b[0;34m.\u001b[0m\u001b[0mget_value\u001b[0m\u001b[0;34m(\u001b[0m\u001b[0mself\u001b[0m\u001b[0;34m,\u001b[0m \u001b[0mkey\u001b[0m\u001b[0;34m)\u001b[0m\u001b[0;34m\u001b[0m\u001b[0;34m\u001b[0m\u001b[0m\n\u001b[0m\u001b[1;32m   1072\u001b[0m \u001b[0;34m\u001b[0m\u001b[0m\n\u001b[1;32m   1073\u001b[0m             \u001b[0;32mif\u001b[0m \u001b[0;32mnot\u001b[0m \u001b[0mis_scalar\u001b[0m\u001b[0;34m(\u001b[0m\u001b[0mresult\u001b[0m\u001b[0;34m)\u001b[0m\u001b[0;34m:\u001b[0m\u001b[0;34m\u001b[0m\u001b[0;34m\u001b[0m\u001b[0m\n",
      "\u001b[0;32m~/.local/lib/python3.6/site-packages/pandas/core/indexes/base.py\u001b[0m in \u001b[0;36mget_value\u001b[0;34m(self, series, key)\u001b[0m\n\u001b[1;32m   4728\u001b[0m         \u001b[0mk\u001b[0m \u001b[0;34m=\u001b[0m \u001b[0mself\u001b[0m\u001b[0;34m.\u001b[0m\u001b[0m_convert_scalar_indexer\u001b[0m\u001b[0;34m(\u001b[0m\u001b[0mk\u001b[0m\u001b[0;34m,\u001b[0m \u001b[0mkind\u001b[0m\u001b[0;34m=\u001b[0m\u001b[0;34m\"getitem\"\u001b[0m\u001b[0;34m)\u001b[0m\u001b[0;34m\u001b[0m\u001b[0;34m\u001b[0m\u001b[0m\n\u001b[1;32m   4729\u001b[0m         \u001b[0;32mtry\u001b[0m\u001b[0;34m:\u001b[0m\u001b[0;34m\u001b[0m\u001b[0;34m\u001b[0m\u001b[0m\n\u001b[0;32m-> 4730\u001b[0;31m             \u001b[0;32mreturn\u001b[0m \u001b[0mself\u001b[0m\u001b[0;34m.\u001b[0m\u001b[0m_engine\u001b[0m\u001b[0;34m.\u001b[0m\u001b[0mget_value\u001b[0m\u001b[0;34m(\u001b[0m\u001b[0ms\u001b[0m\u001b[0;34m,\u001b[0m \u001b[0mk\u001b[0m\u001b[0;34m,\u001b[0m \u001b[0mtz\u001b[0m\u001b[0;34m=\u001b[0m\u001b[0mgetattr\u001b[0m\u001b[0;34m(\u001b[0m\u001b[0mseries\u001b[0m\u001b[0;34m.\u001b[0m\u001b[0mdtype\u001b[0m\u001b[0;34m,\u001b[0m \u001b[0;34m\"tz\"\u001b[0m\u001b[0;34m,\u001b[0m \u001b[0;32mNone\u001b[0m\u001b[0;34m)\u001b[0m\u001b[0;34m)\u001b[0m\u001b[0;34m\u001b[0m\u001b[0;34m\u001b[0m\u001b[0m\n\u001b[0m\u001b[1;32m   4731\u001b[0m         \u001b[0;32mexcept\u001b[0m \u001b[0mKeyError\u001b[0m \u001b[0;32mas\u001b[0m \u001b[0me1\u001b[0m\u001b[0;34m:\u001b[0m\u001b[0;34m\u001b[0m\u001b[0;34m\u001b[0m\u001b[0m\n\u001b[1;32m   4732\u001b[0m             \u001b[0;32mif\u001b[0m \u001b[0mlen\u001b[0m\u001b[0;34m(\u001b[0m\u001b[0mself\u001b[0m\u001b[0;34m)\u001b[0m \u001b[0;34m>\u001b[0m \u001b[0;36m0\u001b[0m \u001b[0;32mand\u001b[0m \u001b[0;34m(\u001b[0m\u001b[0mself\u001b[0m\u001b[0;34m.\u001b[0m\u001b[0mholds_integer\u001b[0m\u001b[0;34m(\u001b[0m\u001b[0;34m)\u001b[0m \u001b[0;32mor\u001b[0m \u001b[0mself\u001b[0m\u001b[0;34m.\u001b[0m\u001b[0mis_boolean\u001b[0m\u001b[0;34m(\u001b[0m\u001b[0;34m)\u001b[0m\u001b[0;34m)\u001b[0m\u001b[0;34m:\u001b[0m\u001b[0;34m\u001b[0m\u001b[0;34m\u001b[0m\u001b[0m\n",
      "\u001b[0;31mKeyboardInterrupt\u001b[0m: "
     ]
    }
   ],
   "source": [
    "count = 0\n",
    "for chunk in df_chunk:\n",
    "    chunk = pd.DataFrame(chunk)\n",
    "    if (count == 0):\n",
    "        model = LinearRegression()\n",
    "    else:\n",
    "        model = load_model(\"model.sav\")\n",
    "        \n",
    "    chunk = mark_invalid(chunk)\n",
    "    chunk['invalid'] = invalid\n",
    "    chunk.dropna(inplace = True)\n",
    "    chunk = split_datetime(chunk)\n",
    "    chunk = modify_datetime(chunk)\n",
    "    chunk = mark_outlier(chunk, chunk['fare_amount'])\n",
    "    chunk['manhattan_dist'] = abs(chunk['pickup_latitude']-chunk['dropoff_latitude']) + abs(chunk['pickup_longitude']-chunk['dropoff_longitude'])\n",
    "    (X1, y1) = split_data(chunk)\n",
    "    X1 = pd.DataFrame(X1)\n",
    "    model, rmse = fit_model_rmse(X1, y1, model)\n",
    "    save_model(model, \"model.sav\")\n",
    "    print(rmse)\n",
    "    \n",
    "    if (count == 0):\n",
    "        chunks.append(pd.DataFrame(chunk))\n",
    "    count += 1\n",
    "    if(count == 4):\n",
    "        break"
   ]
  },
  {
   "cell_type": "code",
   "execution_count": 20,
   "metadata": {},
   "outputs": [],
   "source": [
    "count = 0\n",
    "test_chunk = pd.read_csv('test.csv', chunksize = 1000000, low_memory = False)"
   ]
  },
  {
   "cell_type": "code",
   "execution_count": null,
   "metadata": {},
   "outputs": [
    {
     "name": "stdout",
     "output_type": "stream",
     "text": [
      "Finished iteration:  1\n",
      "Finished iteration:  2\n",
      "Finished iteration:  3\n",
      "Finished iteration:  4\n"
     ]
    }
   ],
   "source": [
    "\n",
    "# print(pd.DataFrame(test_chunk).shape)\n",
    "test_chunks = []\n",
    "final_dfs = []\n",
    "for chunk in test_chunk:\n",
    "    chunk = pd.DataFrame(chunk)\n",
    "    if(count == 0):\n",
    "        model = load_model(\"model.sav\")\n",
    "    chunk = chunk.interpolate(method='linear', limit_direction = 'forward')\n",
    "    chunk = mark_invalid_test(chunk)\n",
    "    chunk['invalid'] = invalid_test\n",
    "#     chunk.dropna(inplace = True)\n",
    "    chunk = split_datetime(chunk)\n",
    "    chunk = modify_datetime(chunk)\n",
    "    chunk['manhattan_dist'] = abs(chunk['pickup_latitude']-chunk['dropoff_latitude']) + abs(chunk['pickup_longitude']-chunk['dropoff_longitude'])\n",
    "    if(count == 0):\n",
    "        test_chunks.append(pd.DataFrame(chunk))\n",
    "#     print(chunk.shape)\n",
    "    req_df = req_columns_test(chunk)\n",
    "#     print(req_df.shape)\n",
    "    y_pred = model.predict(req_df)\n",
    "    df = pd.DataFrame({'key':chunk['key'], 'fare_amount': y_pred})\n",
    "    final_dfs.append(df)\n",
    "    \n",
    "    count += 1\n",
    "    print(\"Finished iteration: \", count)\n",
    "print(count)"
   ]
  },
  {
   "cell_type": "code",
   "execution_count": 15,
   "metadata": {},
   "outputs": [],
   "source": [
    "output = pd.concat(final_dfs)\n",
    "output_status = output.to_csv(\"output.csv\")"
   ]
  },
  {
   "cell_type": "code",
   "execution_count": 16,
   "metadata": {},
   "outputs": [
    {
     "data": {
      "text/html": [
       "<div>\n",
       "<style scoped>\n",
       "    .dataframe tbody tr th:only-of-type {\n",
       "        vertical-align: middle;\n",
       "    }\n",
       "\n",
       "    .dataframe tbody tr th {\n",
       "        vertical-align: top;\n",
       "    }\n",
       "\n",
       "    .dataframe thead th {\n",
       "        text-align: right;\n",
       "    }\n",
       "</style>\n",
       "<table border=\"1\" class=\"dataframe\">\n",
       "  <thead>\n",
       "    <tr style=\"text-align: right;\">\n",
       "      <th></th>\n",
       "      <th>key</th>\n",
       "      <th>pickup_datetime</th>\n",
       "      <th>pickup_longitude</th>\n",
       "      <th>pickup_latitude</th>\n",
       "      <th>dropoff_longitude</th>\n",
       "      <th>dropoff_latitude</th>\n",
       "      <th>passenger_count</th>\n",
       "      <th>invalid</th>\n",
       "      <th>years</th>\n",
       "      <th>months</th>\n",
       "      <th>...</th>\n",
       "      <th>hours</th>\n",
       "      <th>mins</th>\n",
       "      <th>secs</th>\n",
       "      <th>secs_past_midnight</th>\n",
       "      <th>sin_spm</th>\n",
       "      <th>cos_spm</th>\n",
       "      <th>days_past_jan1</th>\n",
       "      <th>sin_dpj</th>\n",
       "      <th>cos_dpj</th>\n",
       "      <th>manhattan_dist</th>\n",
       "    </tr>\n",
       "  </thead>\n",
       "  <tbody>\n",
       "    <tr>\n",
       "      <th>0</th>\n",
       "      <td>2009-01-01 00:01:04.0000003</td>\n",
       "      <td>2009-01-01 00:01:04 UTC</td>\n",
       "      <td>-73.972484</td>\n",
       "      <td>40.742743</td>\n",
       "      <td>-73.918937</td>\n",
       "      <td>40.764496</td>\n",
       "      <td>1</td>\n",
       "      <td>0</td>\n",
       "      <td>2009</td>\n",
       "      <td>0</td>\n",
       "      <td>...</td>\n",
       "      <td>0</td>\n",
       "      <td>1</td>\n",
       "      <td>4</td>\n",
       "      <td>64</td>\n",
       "      <td>0.004654</td>\n",
       "      <td>0.999989</td>\n",
       "      <td>1</td>\n",
       "      <td>0.017213</td>\n",
       "      <td>0.999852</td>\n",
       "      <td>0.075300</td>\n",
       "    </tr>\n",
       "    <tr>\n",
       "      <th>1</th>\n",
       "      <td>2009-01-01 00:01:26.0000001</td>\n",
       "      <td>2009-01-01 00:01:26 UTC</td>\n",
       "      <td>-73.985850</td>\n",
       "      <td>40.722826</td>\n",
       "      <td>-73.986301</td>\n",
       "      <td>40.739347</td>\n",
       "      <td>1</td>\n",
       "      <td>0</td>\n",
       "      <td>2009</td>\n",
       "      <td>0</td>\n",
       "      <td>...</td>\n",
       "      <td>0</td>\n",
       "      <td>1</td>\n",
       "      <td>26</td>\n",
       "      <td>86</td>\n",
       "      <td>0.006254</td>\n",
       "      <td>0.999980</td>\n",
       "      <td>1</td>\n",
       "      <td>0.017213</td>\n",
       "      <td>0.999852</td>\n",
       "      <td>0.016972</td>\n",
       "    </tr>\n",
       "    <tr>\n",
       "      <th>2</th>\n",
       "      <td>2009-01-01 00:04:42.0000001</td>\n",
       "      <td>2009-01-01 00:04:42 UTC</td>\n",
       "      <td>-73.988917</td>\n",
       "      <td>40.740142</td>\n",
       "      <td>-73.982769</td>\n",
       "      <td>40.777291</td>\n",
       "      <td>1</td>\n",
       "      <td>0</td>\n",
       "      <td>2009</td>\n",
       "      <td>0</td>\n",
       "      <td>...</td>\n",
       "      <td>0</td>\n",
       "      <td>4</td>\n",
       "      <td>42</td>\n",
       "      <td>282</td>\n",
       "      <td>0.020506</td>\n",
       "      <td>0.999790</td>\n",
       "      <td>1</td>\n",
       "      <td>0.017213</td>\n",
       "      <td>0.999852</td>\n",
       "      <td>0.043297</td>\n",
       "    </tr>\n",
       "    <tr>\n",
       "      <th>3</th>\n",
       "      <td>2009-01-01 00:04:54.0000001</td>\n",
       "      <td>2009-01-01 00:04:54 UTC</td>\n",
       "      <td>-73.977163</td>\n",
       "      <td>40.764490</td>\n",
       "      <td>-73.914474</td>\n",
       "      <td>40.771575</td>\n",
       "      <td>1</td>\n",
       "      <td>0</td>\n",
       "      <td>2009</td>\n",
       "      <td>0</td>\n",
       "      <td>...</td>\n",
       "      <td>0</td>\n",
       "      <td>4</td>\n",
       "      <td>54</td>\n",
       "      <td>294</td>\n",
       "      <td>0.021379</td>\n",
       "      <td>0.999771</td>\n",
       "      <td>1</td>\n",
       "      <td>0.017213</td>\n",
       "      <td>0.999852</td>\n",
       "      <td>0.069774</td>\n",
       "    </tr>\n",
       "    <tr>\n",
       "      <th>4</th>\n",
       "      <td>2009-01-01 00:04:59.0000004</td>\n",
       "      <td>2009-01-01 00:04:59 UTC</td>\n",
       "      <td>-73.948849</td>\n",
       "      <td>40.778003</td>\n",
       "      <td>-73.977678</td>\n",
       "      <td>40.748692</td>\n",
       "      <td>2</td>\n",
       "      <td>0</td>\n",
       "      <td>2009</td>\n",
       "      <td>0</td>\n",
       "      <td>...</td>\n",
       "      <td>0</td>\n",
       "      <td>4</td>\n",
       "      <td>59</td>\n",
       "      <td>299</td>\n",
       "      <td>0.021742</td>\n",
       "      <td>0.999764</td>\n",
       "      <td>1</td>\n",
       "      <td>0.017213</td>\n",
       "      <td>0.999852</td>\n",
       "      <td>0.058140</td>\n",
       "    </tr>\n",
       "  </tbody>\n",
       "</table>\n",
       "<p>5 rows × 21 columns</p>\n",
       "</div>"
      ],
      "text/plain": [
       "                           key          pickup_datetime  pickup_longitude  \\\n",
       "0  2009-01-01 00:01:04.0000003  2009-01-01 00:01:04 UTC        -73.972484   \n",
       "1  2009-01-01 00:01:26.0000001  2009-01-01 00:01:26 UTC        -73.985850   \n",
       "2  2009-01-01 00:04:42.0000001  2009-01-01 00:04:42 UTC        -73.988917   \n",
       "3  2009-01-01 00:04:54.0000001  2009-01-01 00:04:54 UTC        -73.977163   \n",
       "4  2009-01-01 00:04:59.0000004  2009-01-01 00:04:59 UTC        -73.948849   \n",
       "\n",
       "   pickup_latitude  dropoff_longitude  dropoff_latitude  passenger_count  \\\n",
       "0        40.742743         -73.918937         40.764496                1   \n",
       "1        40.722826         -73.986301         40.739347                1   \n",
       "2        40.740142         -73.982769         40.777291                1   \n",
       "3        40.764490         -73.914474         40.771575                1   \n",
       "4        40.778003         -73.977678         40.748692                2   \n",
       "\n",
       "   invalid  years  months  ...  hours  mins  secs  secs_past_midnight  \\\n",
       "0        0   2009       0  ...      0     1     4                  64   \n",
       "1        0   2009       0  ...      0     1    26                  86   \n",
       "2        0   2009       0  ...      0     4    42                 282   \n",
       "3        0   2009       0  ...      0     4    54                 294   \n",
       "4        0   2009       0  ...      0     4    59                 299   \n",
       "\n",
       "    sin_spm   cos_spm  days_past_jan1   sin_dpj   cos_dpj  manhattan_dist  \n",
       "0  0.004654  0.999989               1  0.017213  0.999852        0.075300  \n",
       "1  0.006254  0.999980               1  0.017213  0.999852        0.016972  \n",
       "2  0.020506  0.999790               1  0.017213  0.999852        0.043297  \n",
       "3  0.021379  0.999771               1  0.017213  0.999852        0.069774  \n",
       "4  0.021742  0.999764               1  0.017213  0.999852        0.058140  \n",
       "\n",
       "[5 rows x 21 columns]"
      ]
     },
     "execution_count": 16,
     "metadata": {},
     "output_type": "execute_result"
    }
   ],
   "source": [
    "test_chunks[0].head()"
   ]
  },
  {
   "cell_type": "code",
   "execution_count": 17,
   "metadata": {},
   "outputs": [],
   "source": [
    "# test_chunks[0].describe()"
   ]
  },
  {
   "cell_type": "code",
   "execution_count": 18,
   "metadata": {},
   "outputs": [],
   "source": [
    "# test_chunks[0].isnull().sum()"
   ]
  },
  {
   "cell_type": "markdown",
   "metadata": {},
   "source": [
    "# Visualization plots "
   ]
  },
  {
   "cell_type": "code",
   "execution_count": 19,
   "metadata": {},
   "outputs": [
    {
     "name": "stdout",
     "output_type": "stream",
     "text": [
      "AxesSubplot(0.125,0.125;0.775x0.755)\n"
     ]
    },
    {
     "data": {
      "image/png": "[encoded data removed]",
      "text/plain": [
       "<Figure size 432x288 with 1 Axes>"
      ]
     },
     "metadata": {
      "needs_background": "light"
     },
     "output_type": "display_data"
    }
   ],
   "source": [
    "fig, ax = plt.subplots()\n",
    "print(chunks[0][\"pickup_longitude\"].plot.hist(ax = ax, title=\"pickup longitude\",bottom=1, bins=25))\n",
    "ax.set_yscale('log')"
   ]
  },
  {
   "cell_type": "code",
   "execution_count": 20,
   "metadata": {},
   "outputs": [
    {
     "name": "stdout",
     "output_type": "stream",
     "text": [
      "AxesSubplot(0.125,0.125;0.775x0.755)\n"
     ]
    },
    {
     "data": {
      "image/png": "[encoded data removed]",
      "text/plain": [
       "<Figure size 432x288 with 1 Axes>"
      ]
     },
     "metadata": {
      "needs_background": "light"
     },
     "output_type": "display_data"
    }
   ],
   "source": [
    "fig, ax = plt.subplots()\n",
    "print(chunks[0][\"pickup_latitude\"].plot.hist(ax = ax, title=\"pickup latitude\",bottom=1, bins=25))\n",
    "ax.set_yscale('log')"
   ]
  },
  {
   "cell_type": "code",
   "execution_count": 21,
   "metadata": {},
   "outputs": [
    {
     "name": "stdout",
     "output_type": "stream",
     "text": [
      "AxesSubplot(0.125,0.125;0.775x0.755)\n"
     ]
    },
    {
     "data": {
      "image/png": "[encoded data removed]",
      "text/plain": [
       "<Figure size 432x288 with 1 Axes>"
      ]
     },
     "metadata": {
      "needs_background": "light"
     },
     "output_type": "display_data"
    }
   ],
   "source": [
    "fig, ax = plt.subplots()\n",
    "print(chunks[0][\"dropoff_longitude\"].plot.hist(ax = ax, title=\"dropoff longitude\",bottom=1, bins=25))\n",
    "ax.set_yscale('log')"
   ]
  },
  {
   "cell_type": "code",
   "execution_count": 22,
   "metadata": {},
   "outputs": [
    {
     "name": "stdout",
     "output_type": "stream",
     "text": [
      "AxesSubplot(0.125,0.125;0.775x0.755)\n"
     ]
    },
    {
     "data": {
      "image/png": "[encoded data removed]",
      "text/plain": [
       "<Figure size 432x288 with 1 Axes>"
      ]
     },
     "metadata": {
      "needs_background": "light"
     },
     "output_type": "display_data"
    }
   ],
   "source": [
    "fig, ax = plt.subplots()\n",
    "print(chunks[0][\"dropoff_latitude\"].plot.hist(ax = ax, title=\"dropoff latitude\",bottom=1, bins=25))\n",
    "ax.set_yscale('log')"
   ]
  },
  {
   "cell_type": "code",
   "execution_count": 23,
   "metadata": {},
   "outputs": [
    {
     "name": "stdout",
     "output_type": "stream",
     "text": [
      "AxesSubplot(0.125,0.125;0.775x0.755)\n"
     ]
    },
    {
     "data": {
      "image/png": "[encoded data removed]",
      "text/plain": [
       "<Figure size 432x288 with 1 Axes>"
      ]
     },
     "metadata": {
      "needs_background": "light"
     },
     "output_type": "display_data"
    }
   ],
   "source": [
    "fig, ax = plt.subplots()\n",
    "print(chunks[0][\"passenger_count\"].plot.hist(ax = ax, title=\"passenger count\",bottom=1, bins=25))\n",
    "ax.set_yscale('log')"
   ]
  },
  {
   "cell_type": "code",
   "execution_count": 24,
   "metadata": {},
   "outputs": [
    {
     "data": {
      "image/png": "[encoded data removed]",
      "text/plain": [
       "<Figure size 432x288 with 2 Axes>"
      ]
     },
     "metadata": {
      "needs_background": "light"
     },
     "output_type": "display_data"
    }
   ],
   "source": [
    "fig, (ax1, ax2) = plt.subplots(1, 2, sharex = True, sharey = True)\n",
    "ax1.scatter(chunks[0][\"pickup_latitude\"],chunks[0][\"fare_amount\"])\n",
    "# ax1.xlabel(\"pickup_latitude\")\n",
    "# ax1.ylabel(\"fare_amount\")\n",
    "ax2.scatter(chunks[0][\"pickup_longitude\"],chunks[0][\"fare_amount\"])\n",
    "# ax2.xlabel(\"pickup_longitude\")\n",
    "# ax2.ylabel(\"fare_amount\")\n",
    "plt.show()"
   ]
  },
  {
   "cell_type": "code",
   "execution_count": null,
   "metadata": {},
   "outputs": [],
   "source": []
  },
  {
   "cell_type": "code",
   "execution_count": 25,
   "metadata": {},
   "outputs": [
    {
     "data": {
      "image/png": "[encoded data removed]",
      "text/plain": [
       "<Figure size 432x288 with 1 Axes>"
      ]
     },
     "metadata": {
      "needs_background": "light"
     },
     "output_type": "display_data"
    }
   ],
   "source": [
    "plt.scatter(chunks[0][\"dropoff_latitude\"],chunks[0][\"fare_amount\"])\n",
    "plt.xlabel(\"dropoff_latitude\")\n",
    "plt.ylabel(\"fare_amount\")\n",
    "plt.show()"
   ]
  },
  {
   "cell_type": "code",
   "execution_count": 26,
   "metadata": {},
   "outputs": [
    {
     "data": {
      "image/png": "[encoded data removed]",
      "text/plain": [
       "<Figure size 432x288 with 1 Axes>"
      ]
     },
     "metadata": {
      "needs_background": "light"
     },
     "output_type": "display_data"
    }
   ],
   "source": [
    "plt.scatter(chunks[0][\"dropoff_longitude\"],chunks[0][\"fare_amount\"])\n",
    "plt.xlabel(\"dropoff_longitude\")\n",
    "plt.ylabel(\"fare_amount\")\n",
    "plt.show()"
   ]
  },
  {
   "cell_type": "code",
   "execution_count": 27,
   "metadata": {},
   "outputs": [
    {
     "data": {
      "image/png": "[encoded data removed]",
      "text/plain": [
       "<Figure size 432x288 with 1 Axes>"
      ]
     },
     "metadata": {
      "needs_background": "light"
     },
     "output_type": "display_data"
    }
   ],
   "source": [
    "plt.scatter(chunks[0][\"passenger_count\"],chunks[0][\"fare_amount\"])\n",
    "plt.xlabel(\"passenger_count\")\n",
    "plt.ylabel(\"fare_amount\")\n",
    "plt.show()"
   ]
  },
  {
   "cell_type": "markdown",
   "metadata": {},
   "source": [
    "# Detecting Outliers"
   ]
  },
  {
   "cell_type": "code",
   "execution_count": 28,
   "metadata": {},
   "outputs": [
    {
     "data": {
      "text/plain": [
       "{'whiskers': [<matplotlib.lines.Line2D at 0x7fca82b26588>,\n",
       "  <matplotlib.lines.Line2D at 0x7fca82b26208>],\n",
       " 'caps': [<matplotlib.lines.Line2D at 0x7fca82b26940>,\n",
       "  <matplotlib.lines.Line2D at 0x7fca82b12198>],\n",
       " 'boxes': [<matplotlib.lines.Line2D at 0x7fca82b26e80>],\n",
       " 'medians': [<matplotlib.lines.Line2D at 0x7fca82b124e0>],\n",
       " 'fliers': [<matplotlib.lines.Line2D at 0x7fca82b12828>],\n",
       " 'means': []}"
      ]
     },
     "execution_count": 28,
     "metadata": {},
     "output_type": "execute_result"
    },
    {
     "data": {
      "image/png": "[encoded data removed]",
      "text/plain": [
       "<Figure size 432x288 with 1 Axes>"
      ]
     },
     "metadata": {
      "needs_background": "light"
     },
     "output_type": "display_data"
    }
   ],
   "source": [
    "plt.boxplot(chunks[0].fare_amount)"
   ]
  },
  {
   "cell_type": "code",
   "execution_count": 29,
   "metadata": {},
   "outputs": [
    {
     "data": {
      "text/html": [
       "<div>\n",
       "<style scoped>\n",
       "    .dataframe tbody tr th:only-of-type {\n",
       "        vertical-align: middle;\n",
       "    }\n",
       "\n",
       "    .dataframe tbody tr th {\n",
       "        vertical-align: top;\n",
       "    }\n",
       "\n",
       "    .dataframe thead th {\n",
       "        text-align: right;\n",
       "    }\n",
       "</style>\n",
       "<table border=\"1\" class=\"dataframe\">\n",
       "  <thead>\n",
       "    <tr style=\"text-align: right;\">\n",
       "      <th></th>\n",
       "      <th>fare_amount</th>\n",
       "      <th>pickup_longitude</th>\n",
       "      <th>pickup_latitude</th>\n",
       "      <th>dropoff_longitude</th>\n",
       "      <th>dropoff_latitude</th>\n",
       "      <th>passenger_count</th>\n",
       "      <th>invalid</th>\n",
       "      <th>years</th>\n",
       "      <th>months</th>\n",
       "      <th>days</th>\n",
       "      <th>hours</th>\n",
       "      <th>mins</th>\n",
       "      <th>secs</th>\n",
       "      <th>secs_past_midnight</th>\n",
       "      <th>sin_spm</th>\n",
       "      <th>cos_spm</th>\n",
       "      <th>days_past_jan1</th>\n",
       "      <th>sin_dpj</th>\n",
       "      <th>cos_dpj</th>\n",
       "      <th>manhattan_dist</th>\n",
       "    </tr>\n",
       "  </thead>\n",
       "  <tbody>\n",
       "    <tr>\n",
       "      <th>count</th>\n",
       "      <td>499999.000000</td>\n",
       "      <td>499999.000000</td>\n",
       "      <td>499999.000000</td>\n",
       "      <td>499999.000000</td>\n",
       "      <td>499999.000000</td>\n",
       "      <td>499999.000000</td>\n",
       "      <td>499999.000000</td>\n",
       "      <td>499999.000000</td>\n",
       "      <td>499999.000000</td>\n",
       "      <td>499999.000000</td>\n",
       "      <td>499999.000000</td>\n",
       "      <td>499999.000000</td>\n",
       "      <td>499999.000000</td>\n",
       "      <td>499999.000000</td>\n",
       "      <td>499999.000000</td>\n",
       "      <td>499999.000000</td>\n",
       "      <td>499999.000000</td>\n",
       "      <td>499999.000000</td>\n",
       "      <td>499999.000000</td>\n",
       "      <td>499999.000000</td>\n",
       "    </tr>\n",
       "    <tr>\n",
       "      <th>mean</th>\n",
       "      <td>11.321287</td>\n",
       "      <td>-72.494929</td>\n",
       "      <td>39.921749</td>\n",
       "      <td>-72.504527</td>\n",
       "      <td>39.920973</td>\n",
       "      <td>1.683357</td>\n",
       "      <td>0.048042</td>\n",
       "      <td>2011.735565</td>\n",
       "      <td>5.266735</td>\n",
       "      <td>15.717635</td>\n",
       "      <td>13.516307</td>\n",
       "      <td>29.596623</td>\n",
       "      <td>15.789300</td>\n",
       "      <td>50450.292009</td>\n",
       "      <td>-0.203881</td>\n",
       "      <td>-0.042835</td>\n",
       "      <td>173.719671</td>\n",
       "      <td>0.056962</td>\n",
       "      <td>-0.014769</td>\n",
       "      <td>0.292688</td>\n",
       "    </tr>\n",
       "    <tr>\n",
       "      <th>std</th>\n",
       "      <td>9.746025</td>\n",
       "      <td>11.083106</td>\n",
       "      <td>6.383738</td>\n",
       "      <td>10.679479</td>\n",
       "      <td>9.106300</td>\n",
       "      <td>1.337968</td>\n",
       "      <td>0.213855</td>\n",
       "      <td>1.860802</td>\n",
       "      <td>3.434141</td>\n",
       "      <td>8.686468</td>\n",
       "      <td>6.512363</td>\n",
       "      <td>17.349778</td>\n",
       "      <td>19.416183</td>\n",
       "      <td>23466.856150</td>\n",
       "      <td>0.652657</td>\n",
       "      <td>0.728449</td>\n",
       "      <td>103.262261</td>\n",
       "      <td>0.714617</td>\n",
       "      <td>0.697038</td>\n",
       "      <td>11.109569</td>\n",
       "    </tr>\n",
       "    <tr>\n",
       "      <th>min</th>\n",
       "      <td>-45.000000</td>\n",
       "      <td>-745.950000</td>\n",
       "      <td>-74.016400</td>\n",
       "      <td>-736.533332</td>\n",
       "      <td>-3461.540872</td>\n",
       "      <td>0.000000</td>\n",
       "      <td>0.000000</td>\n",
       "      <td>2009.000000</td>\n",
       "      <td>0.000000</td>\n",
       "      <td>1.000000</td>\n",
       "      <td>0.000000</td>\n",
       "      <td>0.000000</td>\n",
       "      <td>0.000000</td>\n",
       "      <td>0.000000</td>\n",
       "      <td>-1.000000</td>\n",
       "      <td>-1.000000</td>\n",
       "      <td>1.000000</td>\n",
       "      <td>-0.999991</td>\n",
       "      <td>-0.999963</td>\n",
       "      <td>0.000000</td>\n",
       "    </tr>\n",
       "    <tr>\n",
       "      <th>25%</th>\n",
       "      <td>6.000000</td>\n",
       "      <td>-73.992057</td>\n",
       "      <td>40.735061</td>\n",
       "      <td>-73.991411</td>\n",
       "      <td>40.734087</td>\n",
       "      <td>1.000000</td>\n",
       "      <td>0.000000</td>\n",
       "      <td>2010.000000</td>\n",
       "      <td>2.000000</td>\n",
       "      <td>8.000000</td>\n",
       "      <td>9.000000</td>\n",
       "      <td>15.000000</td>\n",
       "      <td>0.000000</td>\n",
       "      <td>33900.000000</td>\n",
       "      <td>-0.817103</td>\n",
       "      <td>-0.773932</td>\n",
       "      <td>86.000000</td>\n",
       "      <td>-0.674444</td>\n",
       "      <td>-0.708627</td>\n",
       "      <td>0.015826</td>\n",
       "    </tr>\n",
       "    <tr>\n",
       "      <th>50%</th>\n",
       "      <td>8.500000</td>\n",
       "      <td>-73.981837</td>\n",
       "      <td>40.752657</td>\n",
       "      <td>-73.980164</td>\n",
       "      <td>40.753070</td>\n",
       "      <td>1.000000</td>\n",
       "      <td>0.000000</td>\n",
       "      <td>2012.000000</td>\n",
       "      <td>5.000000</td>\n",
       "      <td>16.000000</td>\n",
       "      <td>14.000000</td>\n",
       "      <td>30.000000</td>\n",
       "      <td>3.000000</td>\n",
       "      <td>52789.000000</td>\n",
       "      <td>-0.337917</td>\n",
       "      <td>-0.106626</td>\n",
       "      <td>166.000000</td>\n",
       "      <td>0.154309</td>\n",
       "      <td>-0.012910</td>\n",
       "      <td>0.027633</td>\n",
       "    </tr>\n",
       "    <tr>\n",
       "      <th>75%</th>\n",
       "      <td>12.500000</td>\n",
       "      <td>-73.967202</td>\n",
       "      <td>40.767083</td>\n",
       "      <td>-73.963785</td>\n",
       "      <td>40.768047</td>\n",
       "      <td>2.000000</td>\n",
       "      <td>0.000000</td>\n",
       "      <td>2013.000000</td>\n",
       "      <td>8.000000</td>\n",
       "      <td>23.000000</td>\n",
       "      <td>19.000000</td>\n",
       "      <td>45.000000</td>\n",
       "      <td>31.000000</td>\n",
       "      <td>70320.000000</td>\n",
       "      <td>0.362438</td>\n",
       "      <td>0.713250</td>\n",
       "      <td>264.000000</td>\n",
       "      <td>0.758306</td>\n",
       "      <td>0.677615</td>\n",
       "      <td>0.050235</td>\n",
       "    </tr>\n",
       "    <tr>\n",
       "      <th>max</th>\n",
       "      <td>419.750000</td>\n",
       "      <td>2228.722048</td>\n",
       "      <td>1222.118478</td>\n",
       "      <td>448.905230</td>\n",
       "      <td>3210.337087</td>\n",
       "      <td>208.000000</td>\n",
       "      <td>1.000000</td>\n",
       "      <td>2015.000000</td>\n",
       "      <td>11.000000</td>\n",
       "      <td>31.000000</td>\n",
       "      <td>23.000000</td>\n",
       "      <td>59.000000</td>\n",
       "      <td>59.000000</td>\n",
       "      <td>86399.000000</td>\n",
       "      <td>1.000000</td>\n",
       "      <td>1.000000</td>\n",
       "      <td>361.000000</td>\n",
       "      <td>0.999991</td>\n",
       "      <td>0.999852</td>\n",
       "      <td>5455.431537</td>\n",
       "    </tr>\n",
       "  </tbody>\n",
       "</table>\n",
       "</div>"
      ],
      "text/plain": [
       "         fare_amount  pickup_longitude  pickup_latitude  dropoff_longitude  \\\n",
       "count  499999.000000     499999.000000    499999.000000      499999.000000   \n",
       "mean       11.321287        -72.494929        39.921749         -72.504527   \n",
       "std         9.746025         11.083106         6.383738          10.679479   \n",
       "min       -45.000000       -745.950000       -74.016400        -736.533332   \n",
       "25%         6.000000        -73.992057        40.735061         -73.991411   \n",
       "50%         8.500000        -73.981837        40.752657         -73.980164   \n",
       "75%        12.500000        -73.967202        40.767083         -73.963785   \n",
       "max       419.750000       2228.722048      1222.118478         448.905230   \n",
       "\n",
       "       dropoff_latitude  passenger_count        invalid          years  \\\n",
       "count     499999.000000    499999.000000  499999.000000  499999.000000   \n",
       "mean          39.920973         1.683357       0.048042    2011.735565   \n",
       "std            9.106300         1.337968       0.213855       1.860802   \n",
       "min        -3461.540872         0.000000       0.000000    2009.000000   \n",
       "25%           40.734087         1.000000       0.000000    2010.000000   \n",
       "50%           40.753070         1.000000       0.000000    2012.000000   \n",
       "75%           40.768047         2.000000       0.000000    2013.000000   \n",
       "max         3210.337087       208.000000       1.000000    2015.000000   \n",
       "\n",
       "              months           days          hours           mins  \\\n",
       "count  499999.000000  499999.000000  499999.000000  499999.000000   \n",
       "mean        5.266735      15.717635      13.516307      29.596623   \n",
       "std         3.434141       8.686468       6.512363      17.349778   \n",
       "min         0.000000       1.000000       0.000000       0.000000   \n",
       "25%         2.000000       8.000000       9.000000      15.000000   \n",
       "50%         5.000000      16.000000      14.000000      30.000000   \n",
       "75%         8.000000      23.000000      19.000000      45.000000   \n",
       "max        11.000000      31.000000      23.000000      59.000000   \n",
       "\n",
       "                secs  secs_past_midnight        sin_spm        cos_spm  \\\n",
       "count  499999.000000       499999.000000  499999.000000  499999.000000   \n",
       "mean       15.789300        50450.292009      -0.203881      -0.042835   \n",
       "std        19.416183        23466.856150       0.652657       0.728449   \n",
       "min         0.000000            0.000000      -1.000000      -1.000000   \n",
       "25%         0.000000        33900.000000      -0.817103      -0.773932   \n",
       "50%         3.000000        52789.000000      -0.337917      -0.106626   \n",
       "75%        31.000000        70320.000000       0.362438       0.713250   \n",
       "max        59.000000        86399.000000       1.000000       1.000000   \n",
       "\n",
       "       days_past_jan1        sin_dpj        cos_dpj  manhattan_dist  \n",
       "count   499999.000000  499999.000000  499999.000000   499999.000000  \n",
       "mean       173.719671       0.056962      -0.014769        0.292688  \n",
       "std        103.262261       0.714617       0.697038       11.109569  \n",
       "min          1.000000      -0.999991      -0.999963        0.000000  \n",
       "25%         86.000000      -0.674444      -0.708627        0.015826  \n",
       "50%        166.000000       0.154309      -0.012910        0.027633  \n",
       "75%        264.000000       0.758306       0.677615        0.050235  \n",
       "max        361.000000       0.999991       0.999852     5455.431537  "
      ]
     },
     "execution_count": 29,
     "metadata": {},
     "output_type": "execute_result"
    }
   ],
   "source": [
    "chunks[0].to_csv('preprocessed.csv')\n",
    "chunk1 = pd.read_csv('preprocessed.csv')\n",
    "chunks.append(chunk1)\n",
    "chunks[1].head()\n",
    "chunks[0].describe()"
   ]
  },
  {
   "cell_type": "code",
   "execution_count": 30,
   "metadata": {},
   "outputs": [],
   "source": [
    "# indices = detect_outlier(chunks[1]['fare_amount'])\n",
    "# for i in indices:\n",
    "#     chunks[1] = chunks[1].drop([i])\n",
    "#     print(i)"
   ]
  },
  {
   "cell_type": "code",
   "execution_count": 31,
   "metadata": {},
   "outputs": [],
   "source": [
    "chunks[1].to_csv('preprocessed1.csv')\n",
    "chunks.append(pd.read_csv('preprocessed1.csv'))"
   ]
  },
  {
   "cell_type": "markdown",
   "metadata": {},
   "source": [
    "# Restricting coordinates to NYC\n",
    "\n",
    "All coordinates outside NYC are directly dropped"
   ]
  },
  {
   "cell_type": "markdown",
   "metadata": {},
   "source": [
    "# Removing all rows with null values"
   ]
  },
  {
   "cell_type": "code",
   "execution_count": 32,
   "metadata": {},
   "outputs": [],
   "source": [
    "# type(chunks[0])\n",
    "# print(chunks[0].isnull().sum())\n",
    "# chunks[0].dropna(inplace = True)\n",
    "# print(chunks[0].isnull().sum())\n",
    "# chunks[0]['pickup_datetime'][0]\n",
    "# chunks[0].describe()\n",
    "# type(chunks[0]['dropoff_longitude'][161652])"
   ]
  },
  {
   "cell_type": "markdown",
   "metadata": {},
   "source": [
    "# Splitting pickup date time "
   ]
  },
  {
   "cell_type": "markdown",
   "metadata": {},
   "source": [
    "# Generating secs after midnight and days past jan 1st"
   ]
  },
  {
   "cell_type": "code",
   "execution_count": 33,
   "metadata": {},
   "outputs": [
    {
     "data": {
      "text/html": [
       "<div>\n",
       "<style scoped>\n",
       "    .dataframe tbody tr th:only-of-type {\n",
       "        vertical-align: middle;\n",
       "    }\n",
       "\n",
       "    .dataframe tbody tr th {\n",
       "        vertical-align: top;\n",
       "    }\n",
       "\n",
       "    .dataframe thead th {\n",
       "        text-align: right;\n",
       "    }\n",
       "</style>\n",
       "<table border=\"1\" class=\"dataframe\">\n",
       "  <thead>\n",
       "    <tr style=\"text-align: right;\">\n",
       "      <th></th>\n",
       "      <th>Unnamed: 0</th>\n",
       "      <th>key</th>\n",
       "      <th>fare_amount</th>\n",
       "      <th>pickup_datetime</th>\n",
       "      <th>pickup_longitude</th>\n",
       "      <th>pickup_latitude</th>\n",
       "      <th>dropoff_longitude</th>\n",
       "      <th>dropoff_latitude</th>\n",
       "      <th>passenger_count</th>\n",
       "      <th>invalid</th>\n",
       "      <th>...</th>\n",
       "      <th>hours</th>\n",
       "      <th>mins</th>\n",
       "      <th>secs</th>\n",
       "      <th>secs_past_midnight</th>\n",
       "      <th>sin_spm</th>\n",
       "      <th>cos_spm</th>\n",
       "      <th>days_past_jan1</th>\n",
       "      <th>sin_dpj</th>\n",
       "      <th>cos_dpj</th>\n",
       "      <th>manhattan_dist</th>\n",
       "    </tr>\n",
       "  </thead>\n",
       "  <tbody>\n",
       "    <tr>\n",
       "      <th>0</th>\n",
       "      <td>0</td>\n",
       "      <td>2014-09-27 15:26:00.00000043</td>\n",
       "      <td>7.5</td>\n",
       "      <td>2014-09-27 15:26:00 UTC</td>\n",
       "      <td>-73.978463</td>\n",
       "      <td>40.759072</td>\n",
       "      <td>-73.963577</td>\n",
       "      <td>40.774255</td>\n",
       "      <td>1</td>\n",
       "      <td>0</td>\n",
       "      <td>...</td>\n",
       "      <td>15</td>\n",
       "      <td>26</td>\n",
       "      <td>0</td>\n",
       "      <td>55560</td>\n",
       "      <td>-0.782608</td>\n",
       "      <td>-0.622515</td>\n",
       "      <td>267</td>\n",
       "      <td>-0.993257</td>\n",
       "      <td>-0.115935</td>\n",
       "      <td>0.030069</td>\n",
       "    </tr>\n",
       "    <tr>\n",
       "      <th>1</th>\n",
       "      <td>1</td>\n",
       "      <td>2012-05-07 07:57:00.000000142</td>\n",
       "      <td>6.5</td>\n",
       "      <td>2012-05-07 07:57:00 UTC</td>\n",
       "      <td>-73.982397</td>\n",
       "      <td>40.770245</td>\n",
       "      <td>-73.972450</td>\n",
       "      <td>40.764062</td>\n",
       "      <td>1</td>\n",
       "      <td>0</td>\n",
       "      <td>...</td>\n",
       "      <td>7</td>\n",
       "      <td>57</td>\n",
       "      <td>0</td>\n",
       "      <td>28620</td>\n",
       "      <td>0.872496</td>\n",
       "      <td>-0.488621</td>\n",
       "      <td>127</td>\n",
       "      <td>0.816538</td>\n",
       "      <td>-0.577292</td>\n",
       "      <td>0.016130</td>\n",
       "    </tr>\n",
       "    <tr>\n",
       "      <th>2</th>\n",
       "      <td>2</td>\n",
       "      <td>2009-05-05 20:02:36.0000005</td>\n",
       "      <td>12.9</td>\n",
       "      <td>2009-05-05 20:02:36 UTC</td>\n",
       "      <td>-74.006507</td>\n",
       "      <td>40.718808</td>\n",
       "      <td>-73.961096</td>\n",
       "      <td>40.760711</td>\n",
       "      <td>1</td>\n",
       "      <td>0</td>\n",
       "      <td>...</td>\n",
       "      <td>20</td>\n",
       "      <td>2</td>\n",
       "      <td>36</td>\n",
       "      <td>72156</td>\n",
       "      <td>-0.860297</td>\n",
       "      <td>0.509792</td>\n",
       "      <td>125</td>\n",
       "      <td>0.835925</td>\n",
       "      <td>-0.548843</td>\n",
       "      <td>0.087314</td>\n",
       "    </tr>\n",
       "    <tr>\n",
       "      <th>3</th>\n",
       "      <td>3</td>\n",
       "      <td>2010-07-15 22:57:00.00000042</td>\n",
       "      <td>20.1</td>\n",
       "      <td>2010-07-15 22:57:00 UTC</td>\n",
       "      <td>-73.999242</td>\n",
       "      <td>40.734165</td>\n",
       "      <td>-73.972597</td>\n",
       "      <td>40.751228</td>\n",
       "      <td>2</td>\n",
       "      <td>0</td>\n",
       "      <td>...</td>\n",
       "      <td>22</td>\n",
       "      <td>57</td>\n",
       "      <td>0</td>\n",
       "      <td>82620</td>\n",
       "      <td>-0.271440</td>\n",
       "      <td>0.962455</td>\n",
       "      <td>195</td>\n",
       "      <td>-0.213521</td>\n",
       "      <td>-0.976938</td>\n",
       "      <td>0.043708</td>\n",
       "    </tr>\n",
       "    <tr>\n",
       "      <th>4</th>\n",
       "      <td>4</td>\n",
       "      <td>2010-08-31 13:15:00.00000028</td>\n",
       "      <td>4.1</td>\n",
       "      <td>2010-08-31 13:15:00 UTC</td>\n",
       "      <td>-73.977750</td>\n",
       "      <td>40.746274</td>\n",
       "      <td>-73.972760</td>\n",
       "      <td>40.755768</td>\n",
       "      <td>1</td>\n",
       "      <td>0</td>\n",
       "      <td>...</td>\n",
       "      <td>13</td>\n",
       "      <td>15</td>\n",
       "      <td>0</td>\n",
       "      <td>47700</td>\n",
       "      <td>-0.321439</td>\n",
       "      <td>-0.946930</td>\n",
       "      <td>241</td>\n",
       "      <td>-0.845249</td>\n",
       "      <td>-0.534373</td>\n",
       "      <td>0.014484</td>\n",
       "    </tr>\n",
       "  </tbody>\n",
       "</table>\n",
       "<p>5 rows × 23 columns</p>\n",
       "</div>"
      ],
      "text/plain": [
       "   Unnamed: 0                            key  fare_amount  \\\n",
       "0           0   2014-09-27 15:26:00.00000043          7.5   \n",
       "1           1  2012-05-07 07:57:00.000000142          6.5   \n",
       "2           2    2009-05-05 20:02:36.0000005         12.9   \n",
       "3           3   2010-07-15 22:57:00.00000042         20.1   \n",
       "4           4   2010-08-31 13:15:00.00000028          4.1   \n",
       "\n",
       "           pickup_datetime  pickup_longitude  pickup_latitude  \\\n",
       "0  2014-09-27 15:26:00 UTC        -73.978463        40.759072   \n",
       "1  2012-05-07 07:57:00 UTC        -73.982397        40.770245   \n",
       "2  2009-05-05 20:02:36 UTC        -74.006507        40.718808   \n",
       "3  2010-07-15 22:57:00 UTC        -73.999242        40.734165   \n",
       "4  2010-08-31 13:15:00 UTC        -73.977750        40.746274   \n",
       "\n",
       "   dropoff_longitude  dropoff_latitude  passenger_count  invalid  ...  hours  \\\n",
       "0         -73.963577         40.774255                1        0  ...     15   \n",
       "1         -73.972450         40.764062                1        0  ...      7   \n",
       "2         -73.961096         40.760711                1        0  ...     20   \n",
       "3         -73.972597         40.751228                2        0  ...     22   \n",
       "4         -73.972760         40.755768                1        0  ...     13   \n",
       "\n",
       "   mins  secs  secs_past_midnight   sin_spm   cos_spm  days_past_jan1  \\\n",
       "0    26     0               55560 -0.782608 -0.622515             267   \n",
       "1    57     0               28620  0.872496 -0.488621             127   \n",
       "2     2    36               72156 -0.860297  0.509792             125   \n",
       "3    57     0               82620 -0.271440  0.962455             195   \n",
       "4    15     0               47700 -0.321439 -0.946930             241   \n",
       "\n",
       "    sin_dpj   cos_dpj  manhattan_dist  \n",
       "0 -0.993257 -0.115935        0.030069  \n",
       "1  0.816538 -0.577292        0.016130  \n",
       "2  0.835925 -0.548843        0.087314  \n",
       "3 -0.213521 -0.976938        0.043708  \n",
       "4 -0.845249 -0.534373        0.014484  \n",
       "\n",
       "[5 rows x 23 columns]"
      ]
     },
     "execution_count": 33,
     "metadata": {},
     "output_type": "execute_result"
    }
   ],
   "source": [
    "# chunks[0] = chunks[0].drop(['Unnamed: 0', 'Unnamed: 0.1'], axis = 1)\n",
    "chunks[1].head()"
   ]
  },
  {
   "cell_type": "code",
   "execution_count": 34,
   "metadata": {},
   "outputs": [],
   "source": [
    "# chunks[0]['manhattan_dist'] = abs(chunks[0]['pickup_latitude']-chunks[0]['dropoff_latitude']) + abs(chunks[0]['pickup_longitude']-chunks[0]['dropoff_longitude'])"
   ]
  },
  {
   "cell_type": "code",
   "execution_count": 35,
   "metadata": {},
   "outputs": [
    {
     "data": {
      "text/html": [
       "<div>\n",
       "<style scoped>\n",
       "    .dataframe tbody tr th:only-of-type {\n",
       "        vertical-align: middle;\n",
       "    }\n",
       "\n",
       "    .dataframe tbody tr th {\n",
       "        vertical-align: top;\n",
       "    }\n",
       "\n",
       "    .dataframe thead th {\n",
       "        text-align: right;\n",
       "    }\n",
       "</style>\n",
       "<table border=\"1\" class=\"dataframe\">\n",
       "  <thead>\n",
       "    <tr style=\"text-align: right;\">\n",
       "      <th></th>\n",
       "      <th>key</th>\n",
       "      <th>fare_amount</th>\n",
       "      <th>pickup_datetime</th>\n",
       "      <th>pickup_longitude</th>\n",
       "      <th>pickup_latitude</th>\n",
       "      <th>dropoff_longitude</th>\n",
       "      <th>dropoff_latitude</th>\n",
       "      <th>passenger_count</th>\n",
       "      <th>invalid</th>\n",
       "      <th>years</th>\n",
       "      <th>...</th>\n",
       "      <th>hours</th>\n",
       "      <th>mins</th>\n",
       "      <th>secs</th>\n",
       "      <th>secs_past_midnight</th>\n",
       "      <th>sin_spm</th>\n",
       "      <th>cos_spm</th>\n",
       "      <th>days_past_jan1</th>\n",
       "      <th>sin_dpj</th>\n",
       "      <th>cos_dpj</th>\n",
       "      <th>manhattan_dist</th>\n",
       "    </tr>\n",
       "  </thead>\n",
       "  <tbody>\n",
       "    <tr>\n",
       "      <th>0</th>\n",
       "      <td>2014-09-27 15:26:00.00000043</td>\n",
       "      <td>7.5</td>\n",
       "      <td>2014-09-27 15:26:00 UTC</td>\n",
       "      <td>-73.978463</td>\n",
       "      <td>40.759072</td>\n",
       "      <td>-73.963577</td>\n",
       "      <td>40.774255</td>\n",
       "      <td>1</td>\n",
       "      <td>0</td>\n",
       "      <td>2014</td>\n",
       "      <td>...</td>\n",
       "      <td>15</td>\n",
       "      <td>26</td>\n",
       "      <td>0</td>\n",
       "      <td>55560</td>\n",
       "      <td>-0.782608</td>\n",
       "      <td>-0.622515</td>\n",
       "      <td>267</td>\n",
       "      <td>-0.993257</td>\n",
       "      <td>-0.115935</td>\n",
       "      <td>0.030069</td>\n",
       "    </tr>\n",
       "    <tr>\n",
       "      <th>1</th>\n",
       "      <td>2012-05-07 07:57:00.000000142</td>\n",
       "      <td>6.5</td>\n",
       "      <td>2012-05-07 07:57:00 UTC</td>\n",
       "      <td>-73.982397</td>\n",
       "      <td>40.770245</td>\n",
       "      <td>-73.972450</td>\n",
       "      <td>40.764062</td>\n",
       "      <td>1</td>\n",
       "      <td>0</td>\n",
       "      <td>2012</td>\n",
       "      <td>...</td>\n",
       "      <td>7</td>\n",
       "      <td>57</td>\n",
       "      <td>0</td>\n",
       "      <td>28620</td>\n",
       "      <td>0.872496</td>\n",
       "      <td>-0.488621</td>\n",
       "      <td>127</td>\n",
       "      <td>0.816538</td>\n",
       "      <td>-0.577292</td>\n",
       "      <td>0.016130</td>\n",
       "    </tr>\n",
       "    <tr>\n",
       "      <th>2</th>\n",
       "      <td>2009-05-05 20:02:36.0000005</td>\n",
       "      <td>12.9</td>\n",
       "      <td>2009-05-05 20:02:36 UTC</td>\n",
       "      <td>-74.006507</td>\n",
       "      <td>40.718808</td>\n",
       "      <td>-73.961096</td>\n",
       "      <td>40.760711</td>\n",
       "      <td>1</td>\n",
       "      <td>0</td>\n",
       "      <td>2009</td>\n",
       "      <td>...</td>\n",
       "      <td>20</td>\n",
       "      <td>2</td>\n",
       "      <td>36</td>\n",
       "      <td>72156</td>\n",
       "      <td>-0.860297</td>\n",
       "      <td>0.509792</td>\n",
       "      <td>125</td>\n",
       "      <td>0.835925</td>\n",
       "      <td>-0.548843</td>\n",
       "      <td>0.087314</td>\n",
       "    </tr>\n",
       "    <tr>\n",
       "      <th>3</th>\n",
       "      <td>2010-07-15 22:57:00.00000042</td>\n",
       "      <td>20.1</td>\n",
       "      <td>2010-07-15 22:57:00 UTC</td>\n",
       "      <td>-73.999242</td>\n",
       "      <td>40.734165</td>\n",
       "      <td>-73.972597</td>\n",
       "      <td>40.751228</td>\n",
       "      <td>2</td>\n",
       "      <td>0</td>\n",
       "      <td>2010</td>\n",
       "      <td>...</td>\n",
       "      <td>22</td>\n",
       "      <td>57</td>\n",
       "      <td>0</td>\n",
       "      <td>82620</td>\n",
       "      <td>-0.271440</td>\n",
       "      <td>0.962455</td>\n",
       "      <td>195</td>\n",
       "      <td>-0.213521</td>\n",
       "      <td>-0.976938</td>\n",
       "      <td>0.043708</td>\n",
       "    </tr>\n",
       "    <tr>\n",
       "      <th>4</th>\n",
       "      <td>2010-08-31 13:15:00.00000028</td>\n",
       "      <td>4.1</td>\n",
       "      <td>2010-08-31 13:15:00 UTC</td>\n",
       "      <td>-73.977750</td>\n",
       "      <td>40.746274</td>\n",
       "      <td>-73.972760</td>\n",
       "      <td>40.755768</td>\n",
       "      <td>1</td>\n",
       "      <td>0</td>\n",
       "      <td>2010</td>\n",
       "      <td>...</td>\n",
       "      <td>13</td>\n",
       "      <td>15</td>\n",
       "      <td>0</td>\n",
       "      <td>47700</td>\n",
       "      <td>-0.321439</td>\n",
       "      <td>-0.946930</td>\n",
       "      <td>241</td>\n",
       "      <td>-0.845249</td>\n",
       "      <td>-0.534373</td>\n",
       "      <td>0.014484</td>\n",
       "    </tr>\n",
       "  </tbody>\n",
       "</table>\n",
       "<p>5 rows × 22 columns</p>\n",
       "</div>"
      ],
      "text/plain": [
       "                             key  fare_amount          pickup_datetime  \\\n",
       "0   2014-09-27 15:26:00.00000043          7.5  2014-09-27 15:26:00 UTC   \n",
       "1  2012-05-07 07:57:00.000000142          6.5  2012-05-07 07:57:00 UTC   \n",
       "2    2009-05-05 20:02:36.0000005         12.9  2009-05-05 20:02:36 UTC   \n",
       "3   2010-07-15 22:57:00.00000042         20.1  2010-07-15 22:57:00 UTC   \n",
       "4   2010-08-31 13:15:00.00000028          4.1  2010-08-31 13:15:00 UTC   \n",
       "\n",
       "   pickup_longitude  pickup_latitude  dropoff_longitude  dropoff_latitude  \\\n",
       "0        -73.978463        40.759072         -73.963577         40.774255   \n",
       "1        -73.982397        40.770245         -73.972450         40.764062   \n",
       "2        -74.006507        40.718808         -73.961096         40.760711   \n",
       "3        -73.999242        40.734165         -73.972597         40.751228   \n",
       "4        -73.977750        40.746274         -73.972760         40.755768   \n",
       "\n",
       "   passenger_count  invalid  years  ...  hours  mins  secs  \\\n",
       "0                1        0   2014  ...     15    26     0   \n",
       "1                1        0   2012  ...      7    57     0   \n",
       "2                1        0   2009  ...     20     2    36   \n",
       "3                2        0   2010  ...     22    57     0   \n",
       "4                1        0   2010  ...     13    15     0   \n",
       "\n",
       "   secs_past_midnight   sin_spm   cos_spm  days_past_jan1   sin_dpj   cos_dpj  \\\n",
       "0               55560 -0.782608 -0.622515             267 -0.993257 -0.115935   \n",
       "1               28620  0.872496 -0.488621             127  0.816538 -0.577292   \n",
       "2               72156 -0.860297  0.509792             125  0.835925 -0.548843   \n",
       "3               82620 -0.271440  0.962455             195 -0.213521 -0.976938   \n",
       "4               47700 -0.321439 -0.946930             241 -0.845249 -0.534373   \n",
       "\n",
       "   manhattan_dist  \n",
       "0        0.030069  \n",
       "1        0.016130  \n",
       "2        0.087314  \n",
       "3        0.043708  \n",
       "4        0.014484  \n",
       "\n",
       "[5 rows x 22 columns]"
      ]
     },
     "execution_count": 35,
     "metadata": {},
     "output_type": "execute_result"
    }
   ],
   "source": [
    "chunks[0].head()"
   ]
  },
  {
   "cell_type": "code",
   "execution_count": 36,
   "metadata": {},
   "outputs": [],
   "source": [
    "# features = chunks[0].drop(['fare_amount','key','pickup_datetime', 'years', 'months', 'days', 'hours', 'mins', 'secs', 'secs_past_midnight', 'days_past_jan1'], axis = 1)\n",
    "# target = chunks[0]['fare_amount']\n",
    "# features = StandardScaler().fit_transform(features)\n",
    "\n",
    "# pca = PCA(n_components=6)\n",
    "# principalComponents = pca.fit_transform(features)\n",
    "# principalDf = pd.DataFrame(data = principalComponents, columns = ['PrincipalC1', 'PrincipalC2', 'PrincipalC3','PrincipalC4', 'PrincipalC5', 'PrincipalC6'])\n",
    "# finalDf = pd.concat([principalDf, target], axis=1)\n",
    "# finalDf.head()\n",
    "# chunks[0].head()"
   ]
  },
  {
   "cell_type": "markdown",
   "metadata": {},
   "source": []
  },
  {
   "cell_type": "markdown",
   "metadata": {},
   "source": [
    "# Generating X and y"
   ]
  },
  {
   "cell_type": "markdown",
   "metadata": {},
   "source": [
    "# Test train split & Linear Regression & RMSE"
   ]
  },
  {
   "cell_type": "code",
   "execution_count": 37,
   "metadata": {},
   "outputs": [
    {
     "ename": "NameError",
     "evalue": "name 'X_train' is not defined",
     "output_type": "error",
     "traceback": [
      "\u001b[0;31m---------------------------------------------------------------------------\u001b[0m",
      "\u001b[0;31mNameError\u001b[0m                                 Traceback (most recent call last)",
      "\u001b[0;32m<ipython-input-37-be6978a8fe85>\u001b[0m in \u001b[0;36m<module>\u001b[0;34m\u001b[0m\n\u001b[0;32m----> 1\u001b[0;31m \u001b[0mprint\u001b[0m\u001b[0;34m(\u001b[0m\u001b[0mX_train\u001b[0m\u001b[0;34m.\u001b[0m\u001b[0mshape\u001b[0m\u001b[0;34m)\u001b[0m\u001b[0;34m\u001b[0m\u001b[0m\n\u001b[0m\u001b[1;32m      2\u001b[0m \u001b[0mprint\u001b[0m\u001b[0;34m(\u001b[0m\u001b[0my_train\u001b[0m\u001b[0;34m.\u001b[0m\u001b[0mshape\u001b[0m\u001b[0;34m)\u001b[0m\u001b[0;34m\u001b[0m\u001b[0m\n\u001b[1;32m      3\u001b[0m \u001b[0mprint\u001b[0m\u001b[0;34m(\u001b[0m\u001b[0mX_test\u001b[0m\u001b[0;34m.\u001b[0m\u001b[0mshape\u001b[0m\u001b[0;34m)\u001b[0m\u001b[0;34m\u001b[0m\u001b[0m\n\u001b[1;32m      4\u001b[0m \u001b[0mprint\u001b[0m\u001b[0;34m(\u001b[0m\u001b[0my_test\u001b[0m\u001b[0;34m.\u001b[0m\u001b[0mshape\u001b[0m\u001b[0;34m)\u001b[0m\u001b[0;34m\u001b[0m\u001b[0m\n\u001b[1;32m      5\u001b[0m \u001b[0;34m\u001b[0m\u001b[0m\n",
      "\u001b[0;31mNameError\u001b[0m: name 'X_train' is not defined"
     ]
    }
   ],
   "source": [
    "print(X_train.shape)\n",
    "print(y_train.shape)\n",
    "print(X_test.shape)\n",
    "print(y_test.shape)\n",
    "\n",
    "# print(X1_train.shape)\n",
    "# print(y1_train.shape)\n",
    "# print(X1_test.shape)\n",
    "# print(y1_test.shape)"
   ]
  },
  {
   "cell_type": "markdown",
   "metadata": {},
   "source": [
    "# Applying Linear Regression"
   ]
  },
  {
   "cell_type": "code",
   "execution_count": null,
   "metadata": {},
   "outputs": [],
   "source": [
    "linreg = LinearRegression()\n",
    "linreg.fit(X_train, y_train)"
   ]
  },
  {
   "cell_type": "code",
   "execution_count": null,
   "metadata": {},
   "outputs": [],
   "source": [
    "# linreg1 = LinearRegression()\n",
    "# linreg1.fit(X1_train, y1_train)"
   ]
  },
  {
   "cell_type": "markdown",
   "metadata": {},
   "source": [
    "## Predicting outputs"
   ]
  },
  {
   "cell_type": "code",
   "execution_count": null,
   "metadata": {},
   "outputs": [],
   "source": [
    "y_pred = linreg.predict(X_test)\n",
    "# y1_pred = linreg1.predict(X1_test)"
   ]
  },
  {
   "cell_type": "markdown",
   "metadata": {},
   "source": [
    "## Generating RMSE"
   ]
  },
  {
   "cell_type": "code",
   "execution_count": null,
   "metadata": {},
   "outputs": [],
   "source": [
    "print(\"Without PCA: \", np.sqrt(metrics.mean_squared_error(y_test, y_pred)))\n",
    "# print(\"With PCA: \", np.sqrt(metrics.mean_squared_error(y1_test, y1_pred)))"
   ]
  },
  {
   "cell_type": "code",
   "execution_count": null,
   "metadata": {},
   "outputs": [],
   "source": []
  },
  {
   "cell_type": "code",
   "execution_count": null,
   "metadata": {},
   "outputs": [],
   "source": []
  }
 ],
 "metadata": {
  "kernelspec": {
   "display_name": "Python 3",
   "language": "python",
   "name": "python3"
  },
  "language_info": {
   "codemirror_mode": {
    "name": "ipython",
    "version": 3
   },
   "file_extension": ".py",
   "mimetype": "text/x-python",
   "name": "python",
   "nbconvert_exporter": "python",
   "pygments_lexer": "ipython3",
   "version": "3.6.8"
  }
 },
 "nbformat": 4,
 "nbformat_minor": 2
}
